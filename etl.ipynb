{
 "cells": [
  {
   "cell_type": "markdown",
   "metadata": {},
   "source": [
    "# To load csv data"
   ]
  },
  {
   "cell_type": "code",
   "execution_count": null,
   "metadata": {},
   "outputs": [],
   "source": [
    "# query should be:\n",
    "load_uber_data=\"\"\"\n",
    "COPY uber_data FROM 's3://alex-bucket/uber-data/uber-raw-data'\n",
    "CREDENTIALS 'aws_iam_role={}'\n",
    "region 'region'\n",
    "\n",
    "\"\"\""
   ]
  },
  {
   "cell_type": "code",
   "execution_count": null,
   "metadata": {},
   "outputs": [],
   "source": [
    "import configparser\n",
    "\n",
    "\n",
    "# CONFIG\n",
    "config = configparser.ConfigParser()\n",
    "config.read('credentials/dwh.cfg')"
   ]
  },
  {
   "cell_type": "code",
   "execution_count": null,
   "metadata": {},
   "outputs": [],
   "source": [
    "staging_events_copy = (\"\"\"\n",
    "COPY staging_events\n",
    "FROM 's3://alexskp-capstone/bucket_data/restaurant-data/*/*.json'\n",
    "IAM_ROLE 'arn:aws:iam::261476836151:role/dwhRole'\n",
    "REGION 'us-west-2'\n",
    "json 's3://alexskp-capstone/bucket_data/NYrestaurants-jsonpath.json'\n",
    "\"\"\").format(config.get('S3','LOG_DATA'),\n",
    "            config.get('IAM_ROLE','ARN'),\n",
    "            config.get('S3','REGION'),\n",
    "            config.get('S3','LOG_JSONPATH')\n",
    "            )\n",
    "\n",
    "staging_songs_copy = (\"\"\"\n",
    "COPY staging_songs\n",
    "FROM {} \n",
    "IAM_ROLE {}\n",
    "REGION {}\n",
    "json 'auto'\n",
    "\"\"\").format(config.get('S3','SONG_DATA'),\n",
    "            config.get('IAM_ROLE','ARN'),\n",
    "            config.get('S3','REGION')\n",
    "            )"
   ]
  }
 ],
 "metadata": {
  "interpreter": {
   "hash": "2b106deb871846a98236d0c1eb9531bdb82454005ddaacbe052eb78501daf5b9"
  },
  "kernelspec": {
   "display_name": "Python 3.8.8 64-bit ('base': conda)",
   "name": "python3"
  },
  "language_info": {
   "codemirror_mode": {
    "name": "ipython",
    "version": 3
   },
   "file_extension": ".py",
   "mimetype": "text/x-python",
   "name": "python",
   "nbconvert_exporter": "python",
   "pygments_lexer": "ipython3",
   "version": "3.8.8"
  },
  "orig_nbformat": 4
 },
 "nbformat": 4,
 "nbformat_minor": 2
}
