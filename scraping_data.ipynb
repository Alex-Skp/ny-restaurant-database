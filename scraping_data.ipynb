{
 "cells": [
  {
   "cell_type": "code",
   "execution_count": 11,
   "metadata": {},
   "outputs": [],
   "source": [
    "import json\n",
    "import requests\n",
    "import configparser\n",
    "import os\n",
    "\n",
    "import pandas as pd\n",
    "import numpy as np\n",
    "import datetime, time\n",
    "from sklearn import preprocessing\n",
    "import logging\n"
   ]
  },
  {
   "cell_type": "code",
   "execution_count": 2,
   "metadata": {},
   "outputs": [
    {
     "data": {
      "text/plain": [
       "['./credentials/dwh.cfg']"
      ]
     },
     "execution_count": 2,
     "metadata": {},
     "output_type": "execute_result"
    }
   ],
   "source": [
    "config = configparser.ConfigParser()\n",
    "config.read('./credentials/dwh.cfg')"
   ]
  },
  {
   "cell_type": "code",
   "execution_count": 3,
   "metadata": {},
   "outputs": [],
   "source": [
    "os.environ['YELP_CLIENT_ID'] = config.get('YELP', 'YELP_CLIENT_ID')\n",
    "os.environ['YELP_API_KEY'] = config.get('YELP', 'YELP_API_KEY')"
   ]
  },
  {
   "cell_type": "code",
   "execution_count": 4,
   "metadata": {},
   "outputs": [],
   "source": [
    "yelp_url = 'https://api.yelp.com/v3/businesses/search'\n",
    "headers = {'Authorization': 'Bearer {}'.format(os.environ['YELP_API_KEY'])}"
   ]
  },
  {
   "cell_type": "code",
   "execution_count": 13,
   "metadata": {},
   "outputs": [],
   "source": [
    " category = 'Restaurants'\n",
    " districts  = [ 'Midtown West', \n",
    "                'Greenwich Village',\n",
    "                'East Harlem',\n",
    "                'Upper East Side',\n",
    "                'Midtown East',\n",
    "                'Gramercy',\n",
    "                'Little Italy',\n",
    "                'Chinatown',\n",
    "                'SoHo',\n",
    "                'Harlem',\n",
    "                'Upper West Side',\n",
    "                'Tribeca',\n",
    "                'Garment District',\n",
    "                'Stuyvesant Town',\n",
    "                'Financial District',\n",
    "                'Chelsea',\n",
    "                'Morningside Heights',\n",
    "                'Times Square',\n",
    "                'Murray Hill',\n",
    "                'East Village',\n",
    "                'Lower East Side',\n",
    "                'Hells Kitchen',\n",
    "                'Central Park'\n",
    "                ]"
   ]
  },
  {
   "cell_type": "code",
   "execution_count": 14,
   "metadata": {},
   "outputs": [],
   "source": [
    "run_time = int(time.time())\n",
    "for district in range(len(districts)):\n",
    "    logging.info('-------------------\\n Gathering data for {} \\n ---------------------\\n'.format(districts[district]))\n",
    "\n",
    "    for step in range(20):\n",
    "        location = districts[district] + ', Manhattan, NY'\n",
    "        term = 'Restaurants'\n",
    "        search_limit = 50\n",
    "        offset = step*search_limit\n",
    "        categories = '(restaurants, ALL)'\n",
    "        sort_by = 'distance'\n",
    "\n",
    "        url_params = {\n",
    "                         'location': location.replace(' ', '+'),\n",
    "                         'term' : term,\n",
    "                         'limit': search_limit,\n",
    "                         'offset': offset,\n",
    "                         'categories': categories,\n",
    "                         'sorty_by': sort_by\n",
    "                     }\n",
    "       \n",
    "        response = requests.get(yelp_url, headers=headers, params=url_params)\n",
    "        logging.info(('***** {} Restaurants #{} - #{} ....{}'.format(districts[district], \n",
    "                                                              offset+1, offset+search_limit,\n",
    "                                                              response)))\n",
    "        \n",
    "        filename = 'restaurants-{}-{}.json'.format(districts[district], step)\n",
    "        directory = './data/{}/'.format(str(run_time))\n",
    "\n",
    "        os.makedirs(directory, exist_ok=True)\n",
    "\n",
    "        try:\n",
    "            data=response.json()\n",
    "        except KeyError:\n",
    "            continue\n",
    "\n",
    "        with open(directory+filename, 'w') as data_object:\n",
    "            json.dump(data, data_object)\n",
    "\n",
    "        \n",
    "logging.info(response)\n",
    "logging.info(type(response.text))\n",
    "logging.info(response.json().keys())\n",
    "logging.info(response.text[:1000])\n",
    "\n"
   ]
  },
  {
   "cell_type": "code",
   "execution_count": null,
   "metadata": {},
   "outputs": [],
   "source": []
  }
 ],
 "metadata": {
  "interpreter": {
   "hash": "2b106deb871846a98236d0c1eb9531bdb82454005ddaacbe052eb78501daf5b9"
  },
  "kernelspec": {
   "display_name": "Python 3.8.8 64-bit ('base': conda)",
   "name": "python3"
  },
  "language_info": {
   "codemirror_mode": {
    "name": "ipython",
    "version": 3
   },
   "file_extension": ".py",
   "mimetype": "text/x-python",
   "name": "python",
   "nbconvert_exporter": "python",
   "pygments_lexer": "ipython3",
   "version": "3.8.8"
  },
  "orig_nbformat": 4
 },
 "nbformat": 4,
 "nbformat_minor": 2
}
