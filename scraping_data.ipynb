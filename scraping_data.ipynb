{
 "cells": [
  {
   "cell_type": "markdown",
   "metadata": {},
   "source": [
    "# Scraping data from YELP to create a New York City restaurant database\n",
    "### 1. Importing packages"
   ]
  },
  {
   "cell_type": "code",
   "execution_count": 53,
   "metadata": {},
   "outputs": [],
   "source": [
    "import json\n",
    "import requests\n",
    "import configparser\n",
    "import os\n",
    "import time\n",
    "import logging"
   ]
  },
  {
   "cell_type": "markdown",
   "metadata": {},
   "source": [
    "## 2. Taking credentials from configuration file, and make them environment variables:"
   ]
  },
  {
   "cell_type": "code",
   "execution_count": 54,
   "metadata": {},
   "outputs": [],
   "source": [
    "config = configparser.ConfigParser()\n",
    "config.read('./credentials/dwh.cfg')\n",
    "os.environ['YELP_CLIENT_ID'] = config.get('YELP', 'YELP_CLIENT_ID')\n",
    "os.environ['YELP_API_KEY'] = config.get('YELP', 'YELP_API_KEY')"
   ]
  },
  {
   "cell_type": "markdown",
   "metadata": {},
   "source": [
    "## 3. Initialize the variables. Url of the API, the headers, category to search for, and the search objects, which in this case will be districts of NYC"
   ]
  },
  {
   "cell_type": "code",
   "execution_count": 55,
   "metadata": {},
   "outputs": [],
   "source": [
    " yelp_url = 'https://api.yelp.com/v3/businesses/search'\n",
    " headers = {'Authorization': 'Bearer {}'.format(os.environ['YELP_API_KEY'])}\n",
    " category = 'Restaurants'\n",
    " districts  = [ 'Midtown West'#, \n",
    "                'Greenwich Village',\n",
    "                'East Harlem',\n",
    "                'Upper East Side',\n",
    "                'Midtown East',\n",
    "                'Gramercy',\n",
    "                'Little Italy',\n",
    "                'Chinatown',\n",
    "                'SoHo',\n",
    "                'Harlem',\n",
    "                'Upper West Side',\n",
    "                'Tribeca',\n",
    "                'Garment District',\n",
    "                'Stuyvesant Town',\n",
    "                'Financial District',\n",
    "                'Chelsea',\n",
    "                'Morningside Heights',\n",
    "                'Times Square',\n",
    "                'Murray Hill',\n",
    "                'East Village',\n",
    "                'Lower East Side',\n",
    "                'Hells Kitchen',\n",
    "                'Central Park'\n",
    "                ]"
   ]
  },
  {
   "cell_type": "markdown",
   "metadata": {},
   "source": [
    "## 4. Running the crawler, we will save the responses locally to later upload manually in S3"
   ]
  },
  {
   "cell_type": "code",
   "execution_count": 59,
   "metadata": {},
   "outputs": [],
   "source": [
    "run_time = int(time.time()) # To know when we ran the crawler. It'll be the name of the destination folder.\n",
    "for district in range(len(districts)):\n",
    "    logging.info('-------------------\\n Gathering data for {} \\n ---------------------\\n'.format(districts[district]))\n",
    "\n",
    "    for step in range(50):\n",
    "        location = districts[district] + ', Manhattan, NY'\n",
    "        term = 'Restaurants'\n",
    "        search_limit = 20\n",
    "        offset = step*search_limit\n",
    "        categories = '(restaurants, ALL)'\n",
    "        sort_by = 'best_match'\n",
    "\n",
    "        url_params = {\n",
    "                         'location': location.replace(' ', '+'),\n",
    "                         'term' : term,\n",
    "                         'limit': search_limit,\n",
    "                         'offset': offset,\n",
    "                         'categories': categories,\n",
    "                         'sorty_by': sort_by\n",
    "                     }\n",
    "       \n",
    "        response = requests.get(yelp_url, headers=headers, params=url_params)\n",
    "        \n",
    "        try:\n",
    "            response.json()[\"businesses\"]\n",
    "        except KeyError:\n",
    "            break # The API is limiting the amount of results returning a json without the key: businesses\n",
    "\n",
    "        logging.info(('***** {} Restaurants #{} - #{} ....{}'.format(districts[district], \n",
    "                                                              offset+1, offset+search_limit,\n",
    "                                                              response)))\n",
    "        \n",
    "        filename = 'restaurants-{}-{}.json'.format(districts[district].replace(\" \", \"-\"), step)\n",
    "        directory = './data/{}/{}/'.format(str(run_time),districts[district].replace(\" \", \"-\"))\n",
    "\n",
    "        os.makedirs(directory, exist_ok=True)\n",
    "\n",
    "        try:\n",
    "            data=response.json()\n",
    "        except KeyError:\n",
    "            continue\n",
    "        # This is in order to create a JSONL file, which can be read with a jsonpath file\n",
    "        with open(directory+filename, 'w') as data_object:\n",
    "            for record in range(len(data['businesses'])):\n",
    "                json.dump(data['businesses'][record], data_object)\n",
    "                if record!=len(data['businesses'])-1:\n",
    "                    data_object.write('\\n')\n",
    "                \n",
    "\n",
    "        \n",
    "logging.info(response)\n",
    "logging.info(type(response.text))\n",
    "logging.info(response.json().keys())\n",
    "logging.info(response.text[:1000])\n",
    "\n"
   ]
  },
  {
   "cell_type": "markdown",
   "metadata": {},
   "source": [
    "## To check one entry:"
   ]
  },
  {
   "cell_type": "code",
   "execution_count": 57,
   "metadata": {},
   "outputs": [
    {
     "data": {
      "text/plain": [
       "{'id': 'skN-mgnOezFQr9YNh5G5TQ',\n",
       " 'alias': 'lolitas-kitchen-new-york',\n",
       " 'name': \"Lolita's Kitchen\",\n",
       " 'image_url': 'https://s3-media1.fl.yelpcdn.com/bphoto/D9LOW5MsId59pGuEBqvk3Q/o.jpg',\n",
       " 'is_closed': False,\n",
       " 'url': 'https://www.yelp.com/biz/lolitas-kitchen-new-york?adjust_creative=57uLU1O-AjUbFSI7t6x7lw&utm_campaign=yelp_api_v3&utm_medium=api_v3_business_search&utm_source=57uLU1O-AjUbFSI7t6x7lw',\n",
       " 'review_count': 109,\n",
       " 'categories': [{'alias': 'mexican', 'title': 'Mexican'},\n",
       "  {'alias': 'burgers', 'title': 'Burgers'}],\n",
       " 'rating': 4.0,\n",
       " 'coordinates': {'latitude': 40.7824207446896, 'longitude': -73.9534502033954},\n",
       " 'transactions': ['pickup', 'delivery'],\n",
       " 'price': '$',\n",
       " 'location': {'address1': '1364 Lexington Ave',\n",
       "  'address2': '',\n",
       "  'address3': '',\n",
       "  'city': 'New York',\n",
       "  'zip_code': '10128',\n",
       "  'country': 'US',\n",
       "  'state': 'NY',\n",
       "  'display_address': ['1364 Lexington Ave', 'New York, NY 10128']},\n",
       " 'phone': '+12127225055',\n",
       " 'display_phone': '(212) 722-5055',\n",
       " 'distance': 1010.7100795492939}"
      ]
     },
     "execution_count": 57,
     "metadata": {},
     "output_type": "execute_result"
    }
   ],
   "source": [
    "data['businesses'][0]"
   ]
  },
  {
   "cell_type": "code",
   "execution_count": 1,
   "metadata": {},
   "outputs": [
    {
     "data": {
      "text/plain": [
       "0"
      ]
     },
     "execution_count": 1,
     "metadata": {},
     "output_type": "execute_result"
    }
   ],
   "source": []
  },
  {
   "cell_type": "code",
   "execution_count": null,
   "metadata": {},
   "outputs": [],
   "source": []
  }
 ],
 "metadata": {
  "interpreter": {
   "hash": "2b106deb871846a98236d0c1eb9531bdb82454005ddaacbe052eb78501daf5b9"
  },
  "kernelspec": {
   "display_name": "Python 3.8.8 64-bit ('base': conda)",
   "name": "python3"
  },
  "language_info": {
   "codemirror_mode": {
    "name": "ipython",
    "version": 3
   },
   "file_extension": ".py",
   "mimetype": "text/x-python",
   "name": "python",
   "nbconvert_exporter": "python",
   "pygments_lexer": "ipython3",
   "version": "3.8.8"
  },
  "orig_nbformat": 4
 },
 "nbformat": 4,
 "nbformat_minor": 2
}
