{
 "cells": [
  {
   "cell_type": "code",
   "execution_count": 11,
   "metadata": {},
   "outputs": [],
   "source": [
    "import pandas as pd\n",
    "import os \n",
    "import datetime"
   ]
  },
  {
   "cell_type": "code",
   "execution_count": 46,
   "metadata": {},
   "outputs": [],
   "source": [
    "data = pd.DataFrame(columns=['Date/Time', 'Lat','Lon'])\n",
    "for filename in os.listdir('./uber-data'):\n",
    "    directory = './uber-data'+\"/\"+filename\n",
    "    add = pd.read_csv(directory)\n",
    "    data = pd.concat([data, add])"
   ]
  },
  {
   "cell_type": "code",
   "execution_count": 47,
   "metadata": {},
   "outputs": [
    {
     "data": {
      "text/plain": [
       "4534327"
      ]
     },
     "execution_count": 47,
     "metadata": {},
     "output_type": "execute_result"
    }
   ],
   "source": [
    "len(data)"
   ]
  },
  {
   "cell_type": "code",
   "execution_count": 48,
   "metadata": {},
   "outputs": [],
   "source": [
    "data['datetime'] = pd.to_datetime(data['Date/Time'])\n",
    "data['year'] = [x.year for x in data['datetime']]\n",
    "data['month'] = [x.month for x in data['datetime']]\n",
    "data['day'] = [x.day for x in data['datetime']]\n"
   ]
  },
  {
   "cell_type": "code",
   "execution_count": 73,
   "metadata": {},
   "outputs": [],
   "source": [
    "for month in data['month'].drop_duplicates():\n",
    "    monthly_data=data.loc[data['month']==month]\n",
    "    for day in data['day'].drop_duplicates():\n",
    "        \n",
    "        directory = './uber-data/2014/{}/{}/'.format(month,day)\n",
    "        os.makedirs(directory, exist_ok=True)\n",
    "        \n",
    "        daily_data = data.loc[data['day']==day]\n",
    "        for i,x in enumerate(range(0,len(daily_data), 50000)):\n",
    "            filename = 'uber-trips-2014-{}-{}-part{}.csv'.format(month,day,i)\n",
    "            if x+50000>len(daily_data):\n",
    "                write_data=daily_data.iloc[x:].drop(['datetime','year','month','day'], axis=1)\n",
    "                write_data.to_csv(directory+filename, index=False)\n",
    "                continue\n",
    "\n",
    "            write_data=daily_data.iloc[x:x+49999].drop(['datetime','year','month','day'], axis=1)\n",
    "            write_data.to_csv(directory+filename, index=False)\n"
   ]
  },
  {
   "cell_type": "code",
   "execution_count": null,
   "metadata": {},
   "outputs": [],
   "source": []
  }
 ],
 "metadata": {
  "interpreter": {
   "hash": "1bf5c149a9419f974267fca6aaea82771a78cdff0d601fccf168c8e8626016a9"
  },
  "kernelspec": {
   "display_name": "Python 3.7.11 64-bit ('default': conda)",
   "name": "python3"
  },
  "language_info": {
   "codemirror_mode": {
    "name": "ipython",
    "version": 3
   },
   "file_extension": ".py",
   "mimetype": "text/x-python",
   "name": "python",
   "nbconvert_exporter": "python",
   "pygments_lexer": "ipython3",
   "version": "3.7.11"
  },
  "orig_nbformat": 4
 },
 "nbformat": 4,
 "nbformat_minor": 2
}
