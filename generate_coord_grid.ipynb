{
 "cells": [
  {
   "cell_type": "code",
   "execution_count": 1,
   "metadata": {},
   "outputs": [],
   "source": [
    "import pandas as pd\n"
   ]
  },
  {
   "cell_type": "code",
   "execution_count": 2,
   "metadata": {},
   "outputs": [],
   "source": [
    "data=pd.DataFrame(columns=['id','lat_from','lat_to','lon_from','lon_to'])"
   ]
  },
  {
   "cell_type": "code",
   "execution_count": 3,
   "metadata": {},
   "outputs": [],
   "source": [
    "start_lat_grid = 40.70\n",
    "end_lat_grid = 40.85\n",
    "start_lon_grid = -74.73\n",
    "end_lon_grid = -74.02\n",
    "inc_lat = 0.0012\n",
    "inc_lon = 0.0042\n",
    "id = []\n",
    "lat_from = []\n",
    "lat_to = []\n",
    "lon_from = []\n",
    "lon_to = []\n",
    "\n",
    "a,b = start_lat_grid,start_lon_grid\n",
    "x,y = 0,0\n",
    "while a < end_lat_grid:\n",
    "    x += 1\n",
    "    y = 0\n",
    "    while b < end_lon_grid:\n",
    "        y += 1\n",
    "        lat_from.append(a)\n",
    "        lon_from.append(b)\n",
    "        lat_to.append(a + inc_lat - 0.0001)\n",
    "        lon_to.append(b + inc_lon - 0.0001)\n",
    "        b += inc_lon\n",
    "        id.append('A'+ str(x) +'B'+ str(y))\n",
    "    b = start_lon_grid  \n",
    "    a += inc_lat\n",
    "\n",
    "data['id'] = id\n",
    "data['lat_from'] = lat_from\n",
    "data['lat_to'] = lat_to\n",
    "data['lon_from'] = lon_from\n",
    "data['lon_to'] = lon_to\n",
    "    "
   ]
  },
  {
   "cell_type": "code",
   "execution_count": 4,
   "metadata": {},
   "outputs": [
    {
     "data": {
      "text/html": [
       "<div>\n",
       "<style scoped>\n",
       "    .dataframe tbody tr th:only-of-type {\n",
       "        vertical-align: middle;\n",
       "    }\n",
       "\n",
       "    .dataframe tbody tr th {\n",
       "        vertical-align: top;\n",
       "    }\n",
       "\n",
       "    .dataframe thead th {\n",
       "        text-align: right;\n",
       "    }\n",
       "</style>\n",
       "<table border=\"1\" class=\"dataframe\">\n",
       "  <thead>\n",
       "    <tr style=\"text-align: right;\">\n",
       "      <th></th>\n",
       "      <th>id</th>\n",
       "      <th>lat_from</th>\n",
       "      <th>lat_to</th>\n",
       "      <th>lon_from</th>\n",
       "      <th>lon_to</th>\n",
       "    </tr>\n",
       "  </thead>\n",
       "  <tbody>\n",
       "    <tr>\n",
       "      <th>0</th>\n",
       "      <td>A1B1</td>\n",
       "      <td>40.7</td>\n",
       "      <td>40.7011</td>\n",
       "      <td>-74.7300</td>\n",
       "      <td>-74.7259</td>\n",
       "    </tr>\n",
       "    <tr>\n",
       "      <th>1</th>\n",
       "      <td>A1B2</td>\n",
       "      <td>40.7</td>\n",
       "      <td>40.7011</td>\n",
       "      <td>-74.7258</td>\n",
       "      <td>-74.7217</td>\n",
       "    </tr>\n",
       "    <tr>\n",
       "      <th>2</th>\n",
       "      <td>A1B3</td>\n",
       "      <td>40.7</td>\n",
       "      <td>40.7011</td>\n",
       "      <td>-74.7216</td>\n",
       "      <td>-74.7175</td>\n",
       "    </tr>\n",
       "    <tr>\n",
       "      <th>3</th>\n",
       "      <td>A1B4</td>\n",
       "      <td>40.7</td>\n",
       "      <td>40.7011</td>\n",
       "      <td>-74.7174</td>\n",
       "      <td>-74.7133</td>\n",
       "    </tr>\n",
       "    <tr>\n",
       "      <th>4</th>\n",
       "      <td>A1B5</td>\n",
       "      <td>40.7</td>\n",
       "      <td>40.7011</td>\n",
       "      <td>-74.7132</td>\n",
       "      <td>-74.7091</td>\n",
       "    </tr>\n",
       "    <tr>\n",
       "      <th>5</th>\n",
       "      <td>A1B6</td>\n",
       "      <td>40.7</td>\n",
       "      <td>40.7011</td>\n",
       "      <td>-74.7090</td>\n",
       "      <td>-74.7049</td>\n",
       "    </tr>\n",
       "    <tr>\n",
       "      <th>6</th>\n",
       "      <td>A1B7</td>\n",
       "      <td>40.7</td>\n",
       "      <td>40.7011</td>\n",
       "      <td>-74.7048</td>\n",
       "      <td>-74.7007</td>\n",
       "    </tr>\n",
       "    <tr>\n",
       "      <th>7</th>\n",
       "      <td>A1B8</td>\n",
       "      <td>40.7</td>\n",
       "      <td>40.7011</td>\n",
       "      <td>-74.7006</td>\n",
       "      <td>-74.6965</td>\n",
       "    </tr>\n",
       "    <tr>\n",
       "      <th>8</th>\n",
       "      <td>A1B9</td>\n",
       "      <td>40.7</td>\n",
       "      <td>40.7011</td>\n",
       "      <td>-74.6964</td>\n",
       "      <td>-74.6923</td>\n",
       "    </tr>\n",
       "    <tr>\n",
       "      <th>9</th>\n",
       "      <td>A1B10</td>\n",
       "      <td>40.7</td>\n",
       "      <td>40.7011</td>\n",
       "      <td>-74.6922</td>\n",
       "      <td>-74.6881</td>\n",
       "    </tr>\n",
       "  </tbody>\n",
       "</table>\n",
       "</div>"
      ],
      "text/plain": [
       "      id  lat_from   lat_to  lon_from   lon_to\n",
       "0   A1B1      40.7  40.7011  -74.7300 -74.7259\n",
       "1   A1B2      40.7  40.7011  -74.7258 -74.7217\n",
       "2   A1B3      40.7  40.7011  -74.7216 -74.7175\n",
       "3   A1B4      40.7  40.7011  -74.7174 -74.7133\n",
       "4   A1B5      40.7  40.7011  -74.7132 -74.7091\n",
       "5   A1B6      40.7  40.7011  -74.7090 -74.7049\n",
       "6   A1B7      40.7  40.7011  -74.7048 -74.7007\n",
       "7   A1B8      40.7  40.7011  -74.7006 -74.6965\n",
       "8   A1B9      40.7  40.7011  -74.6964 -74.6923\n",
       "9  A1B10      40.7  40.7011  -74.6922 -74.6881"
      ]
     },
     "execution_count": 4,
     "metadata": {},
     "output_type": "execute_result"
    }
   ],
   "source": [
    "data.head(10)"
   ]
  },
  {
   "cell_type": "code",
   "execution_count": 5,
   "metadata": {},
   "outputs": [],
   "source": [
    "data.to_csv('./data/ref_grid.csv')"
   ]
  },
  {
   "cell_type": "code",
   "execution_count": 6,
   "metadata": {},
   "outputs": [],
   "source": [
    "from functions import generate_grid_dataframe"
   ]
  },
  {
   "cell_type": "code",
   "execution_count": 9,
   "metadata": {},
   "outputs": [],
   "source": [
    "data2 = generate_grid_dataframe(40.7, 40.85, -74.73, -74.02, 0.0012, 0.0042, 0.0001)"
   ]
  },
  {
   "cell_type": "code",
   "execution_count": 13,
   "metadata": {},
   "outputs": [
    {
     "data": {
      "text/html": [
       "<div>\n",
       "<style scoped>\n",
       "    .dataframe tbody tr th:only-of-type {\n",
       "        vertical-align: middle;\n",
       "    }\n",
       "\n",
       "    .dataframe tbody tr th {\n",
       "        vertical-align: top;\n",
       "    }\n",
       "\n",
       "    .dataframe thead th {\n",
       "        text-align: right;\n",
       "    }\n",
       "</style>\n",
       "<table border=\"1\" class=\"dataframe\">\n",
       "  <thead>\n",
       "    <tr style=\"text-align: right;\">\n",
       "      <th></th>\n",
       "      <th>id</th>\n",
       "      <th>x_from</th>\n",
       "      <th>x_to</th>\n",
       "      <th>y_from</th>\n",
       "      <th>y_to</th>\n",
       "    </tr>\n",
       "  </thead>\n",
       "  <tbody>\n",
       "  </tbody>\n",
       "</table>\n",
       "</div>"
      ],
      "text/plain": [
       "Empty DataFrame\n",
       "Columns: [id, x_from, x_to, y_from, y_to]\n",
       "Index: []"
      ]
     },
     "execution_count": 13,
     "metadata": {},
     "output_type": "execute_result"
    }
   ],
   "source": [
    "data2.head(10)"
   ]
  },
  {
   "cell_type": "code",
   "execution_count": null,
   "metadata": {},
   "outputs": [],
   "source": []
  }
 ],
 "metadata": {
  "interpreter": {
   "hash": "2b106deb871846a98236d0c1eb9531bdb82454005ddaacbe052eb78501daf5b9"
  },
  "kernelspec": {
   "display_name": "Python 3.8.8 64-bit ('base': conda)",
   "name": "python3"
  },
  "language_info": {
   "codemirror_mode": {
    "name": "ipython",
    "version": 3
   },
   "file_extension": ".py",
   "mimetype": "text/x-python",
   "name": "python",
   "nbconvert_exporter": "python",
   "pygments_lexer": "ipython3",
   "version": "3.8.8"
  },
  "orig_nbformat": 4
 },
 "nbformat": 4,
 "nbformat_minor": 2
}
